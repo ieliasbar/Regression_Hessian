{
  "nbformat": 4,
  "nbformat_minor": 0,
  "metadata": {
    "colab": {
      "name": "Hessian_opt.ipynb",
      "provenance": [],
      "collapsed_sections": [],
      "mount_file_id": "1QWIEgNf6S-8z5MHSvINXNo1CgifoNHIF",
      "authorship_tag": "ABX9TyPdOJ9hQvzjpSs6vC9wcADk"
    },
    "kernelspec": {
      "name": "python3",
      "display_name": "Python 3"
    },
    "accelerator": "GPU"
  },
  "cells": [
    {
      "cell_type": "code",
      "metadata": {
        "id": "CyU8xau5XyQK",
        "colab_type": "code",
        "colab": {
          "base_uri": "https://localhost:8080/",
          "height": 63
        },
        "outputId": "2b0a21c8-de5d-4cee-dae5-aad0e1957689"
      },
      "source": [
        "import tensorflow as tf\n",
        "import numpy as np\n",
        "import matplotlib.pyplot as plt\n",
        "import pandas as pd\n",
        "from sklearn.metrics import r2_score\n",
        "from sklearn.metrics import mean_absolute_error\n",
        "import math\n",
        "import seaborn as sns\n",
        "sns.set_style('darkgrid')"
      ],
      "execution_count": 1,
      "outputs": [
        {
          "output_type": "display_data",
          "data": {
            "text/html": [
              "<p style=\"color: red;\">\n",
              "The default version of TensorFlow in Colab will soon switch to TensorFlow 2.x.<br>\n",
              "We recommend you <a href=\"https://www.tensorflow.org/guide/migrate\" target=\"_blank\">upgrade</a> now \n",
              "or ensure your notebook will continue to use TensorFlow 1.x via the <code>%tensorflow_version 1.x</code> magic:\n",
              "<a href=\"https://colab.research.google.com/notebooks/tensorflow_version.ipynb\" target=\"_blank\">more info</a>.</p>\n"
            ],
            "text/plain": [
              "<IPython.core.display.HTML object>"
            ]
          },
          "metadata": {
            "tags": []
          }
        }
      ]
    },
    {
      "cell_type": "code",
      "metadata": {
        "id": "Yj4Td6DFX1Jq",
        "colab_type": "code",
        "colab": {
          "base_uri": "https://localhost:8080/",
          "height": 34
        },
        "outputId": "cb022843-fb0f-4553-922c-c375f3d72ba1"
      },
      "source": [
        "tf.__version__"
      ],
      "execution_count": 2,
      "outputs": [
        {
          "output_type": "execute_result",
          "data": {
            "text/plain": [
              "'1.15.0'"
            ]
          },
          "metadata": {
            "tags": []
          },
          "execution_count": 2
        }
      ]
    },
    {
      "cell_type": "code",
      "metadata": {
        "id": "wV-BPNixZaNY",
        "colab_type": "code",
        "colab": {
          "base_uri": "https://localhost:8080/",
          "height": 34
        },
        "outputId": "a045b620-63cd-4837-fe6a-0c5f8cebc395"
      },
      "source": [
        "from google.colab import drive\n",
        "drive.mount('/content/drive')"
      ],
      "execution_count": 3,
      "outputs": [
        {
          "output_type": "stream",
          "text": [
            "Drive already mounted at /content/drive; to attempt to forcibly remount, call drive.mount(\"/content/drive\", force_remount=True).\n"
          ],
          "name": "stdout"
        }
      ]
    },
    {
      "cell_type": "code",
      "metadata": {
        "id": "YZ6OeMvOZbrF",
        "colab_type": "code",
        "colab": {}
      },
      "source": [
        "# Import dataset\n",
        "X_train = pd.read_csv('/content/drive/My Drive/Colab Notebooks/Kaggle/Hessian/X_train.txt', delim_whitespace = True).values\n",
        "X_test = pd.read_csv('/content/drive/My Drive/Colab Notebooks/Kaggle/Hessian/X_test.txt', delim_whitespace = True).values\n",
        "y_train = pd.read_csv('/content/drive/My Drive/Colab Notebooks/Kaggle/Hessian/y_train.txt', delim_whitespace = True).values\n",
        "y_test = pd.read_csv('/content/drive/My Drive/Colab Notebooks/Kaggle/Hessian/y_test.txt', delim_whitespace = True).values"
      ],
      "execution_count": 0,
      "outputs": []
    },
    {
      "cell_type": "code",
      "metadata": {
        "id": "sJj_a1vLM56h",
        "colab_type": "code",
        "colab": {}
      },
      "source": [
        "y_train2 = y_train.copy()"
      ],
      "execution_count": 0,
      "outputs": []
    },
    {
      "cell_type": "code",
      "metadata": {
        "id": "Rw3b66_zZ_oE",
        "colab_type": "code",
        "colab": {
          "base_uri": "https://localhost:8080/",
          "height": 357
        },
        "outputId": "2a171a49-4e5c-4188-c841-58f73d8d942b"
      },
      "source": [
        "X_train[:10,:]"
      ],
      "execution_count": 6,
      "outputs": [
        {
          "output_type": "execute_result",
          "data": {
            "text/plain": [
              "array([[3.70000000e+01, 2.50000000e+01, 2.00000000e+00, 5.00000000e+00,\n",
              "        0.00000000e+00,            nan,            nan, 9.90166667e+02],\n",
              "       [3.90000000e+01, 2.40000000e+01, 3.00000000e+00, 5.00000000e+00,\n",
              "        0.00000000e+00,            nan,            nan, 1.45008333e+03],\n",
              "       [3.80000000e+01, 2.20000000e+01, 4.00000000e+00, 5.00000000e+00,\n",
              "        0.00000000e+00,            nan,            nan, 1.89912500e+03],\n",
              "       [3.70000000e+01, 2.00000000e+01, 5.00000000e+00, 5.00000000e+00,\n",
              "        0.00000000e+00,            nan,            nan, 2.34762500e+03],\n",
              "       [3.60000000e+01, 1.90000000e+01, 6.00000000e+00, 5.00000000e+00,\n",
              "        0.00000000e+00,            nan,            nan, 2.80729167e+03],\n",
              "       [3.50000000e+01, 2.00000000e+01, 7.00000000e+00, 5.00000000e+00,\n",
              "        0.00000000e+00,            nan,            nan, 3.28679167e+03],\n",
              "       [3.50000000e+01, 2.00000000e+01, 8.00000000e+00, 5.00000000e+00,\n",
              "        0.00000000e+00,            nan,            nan, 3.77870833e+03],\n",
              "       [3.50000000e+01, 2.10000000e+01, 9.00000000e+00, 5.00000000e+00,\n",
              "        0.00000000e+00,            nan,            nan, 4.29775000e+03],\n",
              "       [3.70000000e+01, 2.10000000e+01, 1.00000000e+01, 5.00000000e+00,\n",
              "        0.00000000e+00,            nan,            nan, 4.84833333e+03],\n",
              "       [3.80000000e+01, 2.20000000e+01, 1.10000000e+01, 5.00000000e+00,\n",
              "        0.00000000e+00,            nan,            nan, 5.42262500e+03]])"
            ]
          },
          "metadata": {
            "tags": []
          },
          "execution_count": 6
        }
      ]
    },
    {
      "cell_type": "code",
      "metadata": {
        "id": "m8KDqa0laDMC",
        "colab_type": "code",
        "colab": {
          "base_uri": "https://localhost:8080/",
          "height": 187
        },
        "outputId": "8712c81e-8a5d-4091-a472-0c0d1d048e62"
      },
      "source": [
        "y_train[:10]"
      ],
      "execution_count": 7,
      "outputs": [
        {
          "output_type": "execute_result",
          "data": {
            "text/plain": [
              "array([[11534],\n",
              "       [11038],\n",
              "       [10777],\n",
              "       [10764],\n",
              "       [11032],\n",
              "       [11508],\n",
              "       [11806],\n",
              "       [12457],\n",
              "       [13214],\n",
              "       [13783]])"
            ]
          },
          "metadata": {
            "tags": []
          },
          "execution_count": 7
        }
      ]
    },
    {
      "cell_type": "code",
      "metadata": {
        "id": "Nll56eERaKWP",
        "colab_type": "code",
        "colab": {}
      },
      "source": [
        "# Preprocesamiento de datos faltantes\n",
        "from sklearn.impute import SimpleImputer\n",
        "imputer = SimpleImputer(strategy = 'mean')\n",
        "imputer = imputer.fit(X_train[:,5:7])\n",
        "X_train[:,5:7] = imputer.transform(X_train[:,5:7])"
      ],
      "execution_count": 0,
      "outputs": []
    },
    {
      "cell_type": "code",
      "metadata": {
        "id": "7SpQHzxlBW6A",
        "colab_type": "code",
        "colab": {}
      },
      "source": [
        "# Escalar características \n",
        "from sklearn.preprocessing import MinMaxScaler\n",
        "sc_X = MinMaxScaler(feature_range = (0, 1))\n",
        "X_train = sc_X.fit_transform(X_train)\n",
        "X_test = sc_X.transform(X_test)"
      ],
      "execution_count": 0,
      "outputs": []
    },
    {
      "cell_type": "code",
      "metadata": {
        "id": "fuNav5OKCR2Y",
        "colab_type": "code",
        "colab": {}
      },
      "source": [
        "# Escalar la salida\n",
        "from sklearn.preprocessing import MinMaxScaler\n",
        "sc_y = MinMaxScaler(feature_range = (0, 1))\n",
        "y_train = sc_y.fit_transform(y_train)"
      ],
      "execution_count": 0,
      "outputs": []
    },
    {
      "cell_type": "code",
      "metadata": {
        "id": "qTj-o65CCUrS",
        "colab_type": "code",
        "colab": {}
      },
      "source": [
        "X_train = X_train.T\n",
        "y_train = y_train.T\n",
        "X_test = X_test.T\n",
        "\n",
        "batch_size = X_train.shape[1]\n",
        "m = X_train.shape[1]\n",
        "n_features = X_train.shape[0]\n",
        "n_hidden = 5\n",
        "n_output = y_train.shape[0]\n",
        "mini_batch_size = 256"
      ],
      "execution_count": 0,
      "outputs": []
    },
    {
      "cell_type": "code",
      "metadata": {
        "id": "rk1pPd7jCZDG",
        "colab_type": "code",
        "colab": {}
      },
      "source": [
        "x = tf.placeholder(tf.float32, shape=[n_features, None])\n",
        "y = tf.placeholder(tf.float32, shape=[n_output, None])\n",
        "\n",
        "# Inicializar parámetros\n",
        "#w1_flat = tf.Variable(tf.truncated_normal([n_features * n_hidden,]), dtype = tf.float32)\n",
        "w1_flat = tf.Variable(tf.random_uniform([n_features * n_hidden,], maxval = 0.01), dtype = tf.float32)\n",
        "b1_flat = tf.Variable(tf.zeros([n_hidden, ]), dtype = tf.float32)\n",
        "#w2_flat = tf.Variable(tf.truncated_normal([n_hidden * n_output,]), dtype = tf.float32)\n",
        "w2_flat = tf.Variable(tf.random_uniform([n_hidden * n_output,], maxval = 0.01), dtype = tf.float32)\n",
        "b2_flat = tf.Variable(tf.zeros([n_output, ]), dtype = tf.float32)"
      ],
      "execution_count": 0,
      "outputs": []
    },
    {
      "cell_type": "code",
      "metadata": {
        "id": "Y7U5ELpKCdJ4",
        "colab_type": "code",
        "colab": {}
      },
      "source": [
        "# Reshape\n",
        "W1 = tf.reshape(w1_flat, [n_hidden, n_features])\n",
        "b1 = tf.reshape(b1_flat, [n_hidden, 1])\n",
        "W2 = tf.reshape(w2_flat, [n_output, n_hidden])\n",
        "b2 = tf.reshape(b2_flat, [n_output, 1])\n",
        "\n",
        "# Making a prediction and comparing it to the true output\n",
        "Z1 = tf.matmul(W1, x) + b1\n",
        "A1 = tf.sigmoid(Z1)\n",
        "Z2 = tf.matmul(W2, A1) + b2\n",
        "pred = Z2\n",
        "loss = tf.reduce_mean(0.5 * (y - pred)**2)"
      ],
      "execution_count": 0,
      "outputs": []
    },
    {
      "cell_type": "code",
      "metadata": {
        "id": "H7fLKCm4CsDg",
        "colab_type": "code",
        "colab": {}
      },
      "source": [
        "# Aux functions\n",
        "def random_mini_batches(X, Y, mini_batch_size = 64):\n",
        "        \n",
        "    m = X.shape[1]                  # number of training examples\n",
        "    mini_batches = []\n",
        "       \n",
        "    # Step 1: Shuffle (X, Y)\n",
        "    permutation = list(np.random.permutation(m))\n",
        "    shuffled_X = X[:, permutation]\n",
        "    shuffled_Y = Y[:, permutation].reshape((Y.shape[0],m))\n",
        "\n",
        "    # Step 2: Partition (shuffled_X, shuffled_Y). Minus the end case.\n",
        "    num_complete_minibatches = math.floor(m/mini_batch_size) # number of mini batches of size mini_batch_size in your partitionning\n",
        "    for k in range(0, num_complete_minibatches):\n",
        "        mini_batch_X = shuffled_X[:, k * mini_batch_size : k * mini_batch_size + mini_batch_size]\n",
        "        mini_batch_Y = shuffled_Y[:, k * mini_batch_size : k * mini_batch_size + mini_batch_size]\n",
        "        mini_batch = (mini_batch_X, mini_batch_Y)\n",
        "        mini_batches.append(mini_batch)\n",
        "    \n",
        "    # Handling the end case (last mini-batch < mini_batch_size)\n",
        "    if m % mini_batch_size != 0:\n",
        "        mini_batch_X = shuffled_X[:, num_complete_minibatches * mini_batch_size : m]\n",
        "        mini_batch_Y = shuffled_Y[:, num_complete_minibatches * mini_batch_size : m]\n",
        "        mini_batch = (mini_batch_X, mini_batch_Y)\n",
        "        mini_batches.append(mini_batch)\n",
        "    \n",
        "    return mini_batches\n",
        "\n",
        "def sigmoid(Z):    \n",
        "    A = 1/(1+np.exp(-Z))\n",
        "    #cache = Z\n",
        "    return A\n",
        "\n",
        "def return_parameters(parameters, n_hidden, n_features, n_output):\n",
        "    W1 = np.reshape(parameters[0], [n_hidden, n_features])\n",
        "    b1 = np.reshape(parameters[1], [n_hidden, 1])\n",
        "    W2 = np.reshape(parameters[2], [n_output, n_hidden])\n",
        "    b2 = np.reshape(parameters[3], [n_output, 1])\n",
        "    \n",
        "    parameters = {'W1':W1,'b1':b1,'W2':W2,'b2':b2}\n",
        "    \n",
        "    return parameters\n",
        "\n",
        "\n",
        "def forward_test(X_test,parameters):\n",
        "    W1 = parameters['W1']\n",
        "    b1 = parameters['b1']\n",
        "    W2 = parameters['W2']\n",
        "    b2 = parameters['b2']\n",
        "    \n",
        "    Z1 = np.dot(W1,X_test) + b1\n",
        "    A1 = sigmoid(Z1)\n",
        "    Z2 = np.dot(W2,A1) + b2\n",
        "    A2 = Z2\n",
        "\n",
        "    return A2"
      ],
      "execution_count": 0,
      "outputs": []
    },
    {
      "cell_type": "code",
      "metadata": {
        "id": "7tYo0Eo-D0sc",
        "colab_type": "code",
        "colab": {}
      },
      "source": [
        "# Preprocessings to the weight update\n",
        "wrt_variables = [w1_flat, b1_flat, w2_flat, b2_flat]\n",
        "grads = tf.gradients(loss, wrt_variables)\n",
        "hess = tf.hessians(loss, wrt_variables)\n",
        "inv_hess = [tf.matrix_inverse(h) for h in hess]\n",
        "\n",
        "update_directions = [\n",
        "    - (0.0004) * tf.reduce_sum(h) * g\n",
        "    for h, g in zip(inv_hess, grads)\n",
        "]\n",
        "op_apply_updates = [\n",
        "    v.assign_add(up)\n",
        "    for v, up in zip(wrt_variables, update_directions)\n",
        "]"
      ],
      "execution_count": 0,
      "outputs": []
    },
    {
      "cell_type": "code",
      "metadata": {
        "id": "J5Y1vEoKD7W1",
        "colab_type": "code",
        "colab": {
          "base_uri": "https://localhost:8080/",
          "height": 924
        },
        "outputId": "587a961b-c61b-4e7a-c307-a5f15cee7080"
      },
      "source": [
        "import tensorflow as tf\n",
        "\n",
        "####\n",
        "# 2. Proceed to solve the regression\n",
        "####\n",
        "costs = []\n",
        "# Initialize variables\n",
        "init = tf.global_variables_initializer()\n",
        "with tf.Session() as sess:\n",
        "        sess.run(init)\n",
        "        for epoch in range(30):\n",
        "            epoch_cost = 0\n",
        "            num_minibatches = int(m/mini_batch_size)\n",
        "            minibatches =  random_mini_batches(X_train,y_train,mini_batch_size)\n",
        "            for minibatch in minibatches:\n",
        "                (minibatch_X,minibatch_Y) = minibatch\n",
        "                minibatch_cost, _ = sess.run([loss, op_apply_updates],feed_dict={x: X_train,y: y_train})\n",
        "                epoch_cost += minibatch_cost/num_minibatches\n",
        "            print('Costo despues de la época %i: %f'%(epoch ,epoch_cost))\n",
        "            costs.append(epoch_cost)\n",
        "        min_loss = min(np.squeeze(costs))\n",
        "        plt.figure(figsize=(10,6))\n",
        "        plt.plot(np.squeeze(costs))\n",
        "        plt.axhline(y=min_loss,color='r',linestyle='--')\n",
        "        plt.title(\"Función Costo\",fontsize=20,fontweight='bold')\n",
        "        plt.xlabel(\"Épocas\",fontsize=12,fontweight='bold')\n",
        "        plt.ylabel(\"Error\",fontsize=12,fontweight='bold')\n",
        "        plt.xticks(fontweight='bold')\n",
        "        plt.yticks(fontweight='bold')\n",
        "        xyz = (len(costs),costs[-1])\n",
        "        xyzz = (len(costs)/2,costs[-1] + 0.003)\n",
        "        plt.annotate(\"Costo: %0.5f\" % costs[-1], xy=xyz, xytext=xyzz,\n",
        "                     arrowprops=dict(facecolor='black',shrink=1,width=1,headwidth=5),\n",
        "                     fontsize=12,fontweight='bold')\n",
        "        plt.show()\n",
        "        prediction = sess.run(pred, feed_dict={x:X_train})\n",
        "        parameters = sess.run(wrt_variables, feed_dict={x: X_train})\n",
        "\n",
        "\n",
        "parameters_opt = return_parameters(parameters, n_hidden, n_features, n_output)"
      ],
      "execution_count": 44,
      "outputs": [
        {
          "output_type": "stream",
          "text": [
            "Costo despues de la época 0: 0.009539\n",
            "Costo despues de la época 1: 0.007254\n",
            "Costo despues de la época 2: 0.006036\n",
            "Costo despues de la época 3: 0.005136\n",
            "Costo despues de la época 4: 0.004509\n",
            "Costo despues de la época 5: 0.004031\n",
            "Costo despues de la época 6: 0.003656\n",
            "Costo despues de la época 7: 0.003358\n",
            "Costo despues de la época 8: 0.003123\n",
            "Costo despues de la época 9: 0.002939\n",
            "Costo despues de la época 10: 0.002795\n",
            "Costo despues de la época 11: 0.002679\n",
            "Costo despues de la época 12: 0.002588\n",
            "Costo despues de la época 13: 0.002572\n",
            "Costo despues de la época 14: 0.002560\n",
            "Costo despues de la época 15: 0.002525\n",
            "Costo despues de la época 16: 0.002479\n",
            "Costo despues de la época 17: 0.002424\n",
            "Costo despues de la época 18: 0.002376\n",
            "Costo despues de la época 19: 0.002333\n",
            "Costo despues de la época 20: 0.002295\n",
            "Costo despues de la época 21: 0.002262\n",
            "Costo despues de la época 22: 0.002232\n",
            "Costo despues de la época 23: 0.002204\n",
            "Costo despues de la época 24: 0.002179\n",
            "Costo despues de la época 25: 0.002155\n",
            "Costo despues de la época 26: 0.002126\n",
            "Costo despues de la época 27: 0.002091\n",
            "Costo despues de la época 28: 0.002067\n",
            "Costo despues de la época 29: 0.002048\n"
          ],
          "name": "stdout"
        },
        {
          "output_type": "display_data",
          "data": {
            "image/png": "[encoded data removed]",
            "text/plain": [
              "<Figure size 720x432 with 1 Axes>"
            ]
          },
          "metadata": {
            "tags": []
          }
        }
      ]
    },
    {
      "cell_type": "code",
      "metadata": {
        "id": "sNMDAouEFBu4",
        "colab_type": "code",
        "colab": {
          "base_uri": "https://localhost:8080/",
          "height": 51
        },
        "outputId": "c5404499-abe5-48c6-c668-c760a86b1461"
      },
      "source": [
        "# Evaluación de la red neuronal - datos de prueba\n",
        "y_pred_test = forward_test(X_test,parameters_opt)\n",
        "y_pred_test = sc_y.inverse_transform(y_pred_test)\n",
        "y_pred_test = y_pred_test.T\n",
        "\n",
        "\n",
        "R2_test = r2_score(y_test, y_pred_test)\n",
        "MAE = mean_absolute_error(y_test, y_pred_test)\n",
        "print('MAE : %f'%MAE)\n",
        "def mean_absolute_percentage_error(y_true, y_pred):\n",
        "    y_true, y_pred = np.array(y_true), np.array(y_pred)\n",
        "    return np.mean(np.abs((y_true - y_pred) / y_true)) * 100\n",
        "MAPE = mean_absolute_percentage_error(y_test,y_pred_test)\n",
        "print('MAPE : %f'%MAPE)"
      ],
      "execution_count": 45,
      "outputs": [
        {
          "output_type": "stream",
          "text": [
            "MAE : 815.567009\n",
            "MAPE : 5.776682\n"
          ],
          "name": "stdout"
        }
      ]
    },
    {
      "cell_type": "code",
      "metadata": {
        "id": "JpuAH_6iFC93",
        "colab_type": "code",
        "colab": {}
      },
      "source": [
        "# Evaluación de la red neuronal en los datos de entrenamiento\n",
        "y_pred_train = forward_test(X_train,parameters_opt)\n",
        "y_pred_train = sc_y.inverse_transform(y_pred_train).T\n",
        "R2_train = r2_score(y_train2, y_pred_train)"
      ],
      "execution_count": 0,
      "outputs": []
    },
    {
      "cell_type": "code",
      "metadata": {
        "id": "FPUUezRXbD4g",
        "colab_type": "code",
        "colab": {
          "base_uri": "https://localhost:8080/",
          "height": 34
        },
        "outputId": "6e143160-2533-4ffd-b6df-47c85d9892ab"
      },
      "source": [
        "y_pred_test.shape"
      ],
      "execution_count": 47,
      "outputs": [
        {
          "output_type": "execute_result",
          "data": {
            "text/plain": [
              "(8773, 1)"
            ]
          },
          "metadata": {
            "tags": []
          },
          "execution_count": 47
        }
      ]
    },
    {
      "cell_type": "code",
      "metadata": {
        "id": "GaZvTOzAFVHT",
        "colab_type": "code",
        "colab": {
          "base_uri": "https://localhost:8080/",
          "height": 537
        },
        "outputId": "9f38ec48-1ba1-42b4-b98a-afcce8d07555"
      },
      "source": [
        "# Resultados\n",
        "plt.figure(figsize = (15,9))\n",
        "plt.scatter(y_test, y_pred_test)\n",
        "plt.show()"
      ],
      "execution_count": 48,
      "outputs": [
        {
          "output_type": "display_data",
          "data": {
            "image/png": "[encoded data removed]",
            "text/plain": [
              "<Figure size 1080x648 with 1 Axes>"
            ]
          },
          "metadata": {
            "tags": []
          }
        }
      ]
    }
  ]
}